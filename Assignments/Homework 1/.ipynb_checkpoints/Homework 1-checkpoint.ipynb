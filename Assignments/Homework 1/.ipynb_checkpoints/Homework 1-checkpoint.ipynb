{
 "cells": [
  {
   "cell_type": "markdown",
   "metadata": {},
   "source": [
    "# Homework 1"
   ]
  },
  {
   "cell_type": "markdown",
   "metadata": {},
   "source": [
    "This homework is intended as a brief overview of the machine learning process and the various topics you will learn in this class. We hope that this exercise will allow you to put in context the information you learn with us this semester. Don't worry if you don't understand the techniques here (that's what you'll learn this semester!); we just want to show you how you can use sklearn to do simple machine learning. "
   ]
  },
  {
   "cell_type": "markdown",
   "metadata": {},
   "source": [
    "## Setup"
   ]
  },
  {
   "cell_type": "markdown",
   "metadata": {},
   "source": [
    "First let us import some libraries."
   ]
  },
  {
   "cell_type": "code",
   "execution_count": 4,
   "metadata": {},
   "outputs": [],
   "source": [
    "import numpy as np\n",
    "import matplotlib.pyplot as plt\n",
    "%matplotlib inline\n",
    "\n",
    "from sklearn.datasets import fetch_mldata\n",
    "from sklearn.model_selection import train_test_split\n",
    "from sklearn.preprocessing import OneHotEncoder\n",
    "from sklearn.metrics import accuracy_score\n",
    "from sklearn.linear_model import LinearRegression, Ridge, LogisticRegression\n",
    "from sklearn.ensemble import RandomForestClassifier, AdaBoostClassifier\n",
    "from sklearn.svm import LinearSVC, SVC\n",
    "from sklearn.decomposition import PCA\n",
    "from sklearn.neural_network import MLPClassifier"
   ]
  },
  {
   "cell_type": "markdown",
   "metadata": {},
   "source": [
    "For this homework assignment, we will be using the MNIST dataset. The MNIST data is a collection of black and white 28x28 images, each picturing a handwritten digit. These were collected from digits people write at the post office, and now this dataset is a standard benchmark to evaluate models against used in the machine learning community. This may take some time to download. If this errors out, try rerunning it."
   ]
  },
  {
   "cell_type": "code",
   "execution_count": 12,
   "metadata": {},
   "outputs": [],
   "source": [
    "import mnist\n",
    "X = np.reshape(np.concatenate((mnist.train_images(),mnist.test_images())),[-1,784])\n",
    "y = np.concatenate((mnist.train_labels(),mnist.test_labels()))"
   ]
  },
  {
   "cell_type": "markdown",
   "metadata": {},
   "source": [
    "## Data Exploration"
   ]
  },
  {
   "cell_type": "markdown",
   "metadata": {},
   "source": [
    "Let us first explore this data a little bit."
   ]
  },
  {
   "cell_type": "code",
   "execution_count": 13,
   "metadata": {},
   "outputs": [
    {
     "name": "stdout",
     "output_type": "stream",
     "text": [
      "(70000, 784) (70000,)\n"
     ]
    }
   ],
   "source": [
    "print(X.shape, y.shape) "
   ]
  },
  {
   "cell_type": "markdown",
   "metadata": {},
   "source": [
    "The X matrix here contains all the digit pictures. The data is (n_samples x n_features), meaning this data contains 70,000 pictures, each with 784 features (the 28x28 image is flattened into a single row). The y vector contains the label for each digit, so we know which digit (or class - class means category) is in each picture."
   ]
  },
  {
   "cell_type": "markdown",
   "metadata": {},
   "source": [
    "Let's try and visualize this data a bit. Change around the index variable to explore more."
   ]
  },
  {
   "cell_type": "code",
   "execution_count": 26,
   "metadata": {},
   "outputs": [
    {
     "data": {
      "text/plain": [
       "<matplotlib.image.AxesImage at 0x12b6e9668>"
      ]
     },
     "execution_count": 26,
     "metadata": {},
     "output_type": "execute_result"
    },
    {
     "data": {
      "image/png": "[encoded data removed]",
      "text/plain": [
       "<Figure size 432x288 with 1 Axes>"
      ]
     },
     "metadata": {
      "needs_background": "light"
     },
     "output_type": "display_data"
    }
   ],
   "source": [
    "index = 0 #15000, 28999, 67345\n",
    "image = X[index].reshape((28, 28))\n",
    "plt.title('Label is ' + str(y[index]))\n",
    "plt.imshow(image, cmap='gray')"
   ]
  },
  {
   "cell_type": "markdown",
   "metadata": {},
   "source": [
    "Notice that each pixel value ranges from 0-255. When we train our models, a good practice is to *standardize* the data so different features can be compared more equally. Here we will use a simple standardization, squeezing all values into the 0-1 interval range."
   ]
  },
  {
   "cell_type": "code",
   "execution_count": 27,
   "metadata": {},
   "outputs": [],
   "source": [
    "X = X / 255"
   ]
  },
  {
   "cell_type": "markdown",
   "metadata": {},
   "source": [
    "When we train our model, we want it to have the lowest error. Error presents itself in 2 ways: bias (how close our model is to the ideal model), and variance (how much our model varies with different datasets). If we train our model on a chunk of data, and then test our model on that same data, we will only witness the first type of error - bias. However, if we test on new, unseen data, that will reflect both bias and variance. This is the reasoning behind cross validation."
   ]
  },
  {
   "cell_type": "markdown",
   "metadata": {},
   "source": [
    "So, we want to have 2 datasets, train and test, each used for the named purpose exclusively."
   ]
  },
  {
   "cell_type": "code",
   "execution_count": 28,
   "metadata": {},
   "outputs": [],
   "source": [
    "X_train, X_test, y_train, y_test = train_test_split(X, y, test_size=0.25)"
   ]
  },
  {
   "cell_type": "markdown",
   "metadata": {},
   "source": [
    "## Applying Models"
   ]
  },
  {
   "cell_type": "markdown",
   "metadata": {},
   "source": [
    "Now we will walk you through applying various models to try and achieve the lowest error rate on this data."
   ]
  },
  {
   "cell_type": "markdown",
   "metadata": {},
   "source": [
    "Each of our labels is a number from 0-9. If we simply did regression on this data, the labels would imply some sort of ordering of the classes (ie the digit 8 is more of the digit 7 than the digit 3 is, etc. We can fix this issue by one-hot encoding our labels. So, instead of each label being a simple digit, each label is a vector of 10 entries. 9 of those entries are zero, and only 1 entry is equal to one, corresponding to the index of the digit. Let's take a look."
   ]
  },
  {
   "cell_type": "code",
   "execution_count": 29,
   "metadata": {},
   "outputs": [
    {
     "name": "stderr",
     "output_type": "stream",
     "text": [
      "/Library/Frameworks/Python.framework/Versions/3.6/lib/python3.6/site-packages/sklearn/preprocessing/_encoders.py:368: FutureWarning: The handling of integer data will change in version 0.22. Currently, the categories are determined based on the range [0, max(values)], while in the future they will be determined based on the unique values.\n",
      "If you want the future behaviour and silence this warning, you can specify \"categories='auto'\".\n",
      "In case you used a LabelEncoder before this OneHotEncoder to convert the categories to integers, then you can now use the OneHotEncoder directly.\n",
      "  warnings.warn(msg, FutureWarning)\n"
     ]
    },
    {
     "data": {
      "text/plain": [
       "(70000, 10)"
      ]
     },
     "execution_count": 29,
     "metadata": {},
     "output_type": "execute_result"
    }
   ],
   "source": [
    "enc = OneHotEncoder(sparse=False)\n",
    "y_hot = enc.fit_transform(y.reshape(-1, 1))\n",
    "y_train_hot = enc.transform(y_train.reshape(-1, 1))\n",
    "y_hot.shape"
   ]
  },
  {
   "cell_type": "markdown",
   "metadata": {},
   "source": [
    "Remember how the first sample is the digit zero? Let's now look at the new label at that index."
   ]
  },
  {
   "cell_type": "code",
   "execution_count": 30,
   "metadata": {},
   "outputs": [
    {
     "data": {
      "text/plain": [
       "array([0., 0., 0., 0., 0., 1., 0., 0., 0., 0.])"
      ]
     },
     "execution_count": 30,
     "metadata": {},
     "output_type": "execute_result"
    }
   ],
   "source": [
    "y_hot[0]"
   ]
  },
  {
   "cell_type": "markdown",
   "metadata": {},
   "source": [
    "### Linear Regression"
   ]
  },
  {
   "cell_type": "markdown",
   "metadata": {},
   "source": [
    "There are 3 steps to build your model: create the model, train the model, then use your model to make predictions). In the sklearn API, this is made very clear. First you instantiate the model (constructor), then you call train it with the `fit` method, then you can make predictions on new data with the `test` method."
   ]
  },
  {
   "cell_type": "markdown",
   "metadata": {},
   "source": [
    "First, let's do a basic linear regression."
   ]
  },
  {
   "cell_type": "code",
   "execution_count": 31,
   "metadata": {},
   "outputs": [
    {
     "data": {
      "text/plain": [
       "LinearRegression(copy_X=True, fit_intercept=True, n_jobs=None,\n",
       "         normalize=False)"
      ]
     },
     "execution_count": 31,
     "metadata": {},
     "output_type": "execute_result"
    }
   ],
   "source": [
    "linear = LinearRegression()\n",
    "linear.fit(X_train, y_train_hot)"
   ]
  },
  {
   "cell_type": "code",
   "execution_count": 32,
   "metadata": {},
   "outputs": [
    {
     "name": "stdout",
     "output_type": "stream",
     "text": [
      "train acc:  0.8593333333333333\n",
      "test acc:  0.8547428571428571\n"
     ]
    }
   ],
   "source": [
    "# use trained model to predict both train and test sets\n",
    "y_train_pred = linear.predict(X_train)\n",
    "y_test_pred = linear.predict(X_test)\n",
    "\n",
    "# print accuracies\n",
    "print('train acc: ', accuracy_score(y_train_pred.argmax(axis=1), y_train))\n",
    "print('test acc: ', accuracy_score(y_test_pred.argmax(axis=1), y_test))"
   ]
  },
  {
   "cell_type": "markdown",
   "metadata": {},
   "source": [
    "Note on interpretability: you can view the weights of your model with `linear.coef_`"
   ]
  },
  {
   "cell_type": "markdown",
   "metadata": {},
   "source": [
    "### Ridge Regression"
   ]
  },
  {
   "cell_type": "markdown",
   "metadata": {},
   "source": [
    "Let us try and regularize by adding a penalty term to see if we can get anything better. We can penalize via the L2 norm, aka Ridge Regression."
   ]
  },
  {
   "cell_type": "code",
   "execution_count": 38,
   "metadata": {},
   "outputs": [
    {
     "name": "stdout",
     "output_type": "stream",
     "text": [
      "train acc:  0.8386476190476191\n",
      "test acc:  0.8416571428571429\n"
     ]
    }
   ],
   "source": [
    "ridge = Ridge(alpha=0.3)\n",
    "ridge.fit(X_train, y_train_hot)\n",
    "print('train acc: ', accuracy_score(ridge.predict(X_train).argmax(axis=1), y_train))\n",
    "print('test acc: ', accuracy_score(ridge.predict(X_test).argmax(axis=1), y_test))"
   ]
  },
  {
   "cell_type": "markdown",
   "metadata": {},
   "source": [
    "The alpha controls how much to penalize the weights. Play around with it to see if you can improve the test accuracy."
   ]
  },
  {
   "cell_type": "markdown",
   "metadata": {},
   "source": [
    "Now you have seen how to use some basic models to fit and evaluate your data. You will now walk through working with more models. Fill in code where needed."
   ]
  },
  {
   "cell_type": "markdown",
   "metadata": {},
   "source": [
    "### Logistic Regression"
   ]
  },
  {
   "cell_type": "markdown",
   "metadata": {},
   "source": [
    "We will now do logistic regression. From now on, the models will automatically one-hot the labels (so we don't need to worry about it)."
   ]
  },
  {
   "cell_type": "code",
   "execution_count": 46,
   "metadata": {},
   "outputs": [
    {
     "name": "stdout",
     "output_type": "stream",
     "text": [
      "train acc:  0.7\n",
      "test acc:  0.6992\n"
     ]
    }
   ],
   "source": [
    "logreg = LogisticRegression(C=0.85, multi_class='multinomial', solver='saga', tol=0.1)\n",
    "logreg.fit(X_train, y_train)\n",
    "print('train acc: ', accuracy_score(logreg.predict(X_train), y_train))\n",
    "print('test acc: ', accuracy_score(logreg.predict(X_test), y_test))"
   ]
  },
  {
   "cell_type": "markdown",
   "metadata": {},
   "source": [
    "Our accuracy has jumped ~5%! Why is this? Logistic Regression is a more complex model - instead of computing raw scores as in linear regression, it does one extra step and squashes values between 0 and 1. This means our model now optimizes over *probabilities* instead of raw scores. This makes sense since our vectors are 1-hot encoded."
   ]
  },
  {
   "cell_type": "markdown",
   "metadata": {},
   "source": [
    "The C hyperparameter controls inverse regularization strength (inverse for this model only). Reguralization is important to make sure our model doesn't overfit (perform much better on train data than test data). Play around with the C parameter to try and get better results! You should be able to hit 92%."
   ]
  },
  {
   "cell_type": "markdown",
   "metadata": {},
   "source": [
    "### Random Forest"
   ]
  },
  {
   "cell_type": "markdown",
   "metadata": {},
   "source": [
    "Decision Trees are a completely different type of classifier. They essentially break up the possible space by repeatedly \"splitting\" on features to keep narrowing down the possibilities. Decision Trees are normally individually very week, so we typically average them together in bunches called Random Forest."
   ]
  },
  {
   "cell_type": "markdown",
   "metadata": {},
   "source": [
    "Now you have seen many examples for how to construct, fit, and evaluate a model. Now do the same for Random Forest using the [documentation here](http://scikit-learn.org/stable/modules/generated/sklearn.ensemble.RandomForestClassifier.html). You should be able to create one easily without needing to specify any constructor parameters."
   ]
  },
  {
   "cell_type": "code",
   "execution_count": 47,
   "metadata": {},
   "outputs": [
    {
     "name": "stderr",
     "output_type": "stream",
     "text": [
      "/Library/Frameworks/Python.framework/Versions/3.6/lib/python3.6/site-packages/sklearn/ensemble/forest.py:246: FutureWarning: The default value of n_estimators will change from 10 in version 0.20 to 100 in 0.22.\n",
      "  \"10 in version 0.20 to 100 in 0.22.\", FutureWarning)\n"
     ]
    },
    {
     "name": "stdout",
     "output_type": "stream",
     "text": [
      "test acc:  0.9991619047619048\n",
      "test acc:  0.9472571428571429\n"
     ]
    }
   ],
   "source": [
    "ranfor = RandomForestClassifier()\n",
    "ranfor.fit(X_train, y_train)\n",
    "print('test acc: ', accuracy_score(ranfor.predict(X_train), y_train))\n",
    "print('test acc: ', accuracy_score(ranfor.predict(X_test), y_test))"
   ]
  },
  {
   "cell_type": "markdown",
   "metadata": {},
   "source": [
    "WOWZA! That train accuracy is amazing, let's see if we can boost up the test accuracy a bit (since that's what really counts). Try and play around with the hyperparameters to see if you can edge out more accuracy (look at the documentation for parameters in the constructor). Focus on `n_estimators`, `min_samples_split`, `max_features`. You should be able to hit ~97%."
   ]
  },
  {
   "cell_type": "markdown",
   "metadata": {},
   "source": [
    "### SVC"
   ]
  },
  {
   "cell_type": "markdown",
   "metadata": {},
   "source": [
    "A support vector classifier is another completely different type of classifier. It tries to find the best separating hyperplane through your data."
   ]
  },
  {
   "cell_type": "markdown",
   "metadata": {},
   "source": [
    "The SVC will toast our laptops unless we reduce the data dimensionality. Let's keep 80% of the variation, and get rid of the rest. (This will cause a slight drop in performance, but not by much)."
   ]
  },
  {
   "cell_type": "code",
   "execution_count": 48,
   "metadata": {},
   "outputs": [],
   "source": [
    "pca = PCA(n_components=0.8, whiten=True)\n",
    "X_train_pca = pca.fit_transform(X_train)\n",
    "X_test_pca = pca.transform(X_test)"
   ]
  },
  {
   "cell_type": "markdown",
   "metadata": {},
   "source": [
    "Great! Now let's take a look at what that actually did."
   ]
  },
  {
   "cell_type": "code",
   "execution_count": 49,
   "metadata": {},
   "outputs": [
    {
     "data": {
      "text/plain": [
       "(52500, 43)"
      ]
     },
     "execution_count": 49,
     "metadata": {},
     "output_type": "execute_result"
    }
   ],
   "source": [
    "X_train_pca.shape"
   ]
  },
  {
   "cell_type": "markdown",
   "metadata": {},
   "source": [
    "Remember, before we had 784 (28x28) features! However, PCA found just 43 basis features that explain 80% of the data. So, we went to just 5% of the original input space, but we still retained 80% of the information! Nice."
   ]
  },
  {
   "cell_type": "markdown",
   "metadata": {},
   "source": [
    "This [blog post](http://colah.github.io/posts/2014-10-Visualizing-MNIST/) explains dimensionality reduction with MNIST far better than I can. It's a short read (<10 mins), and it contains some pretty cool visualizations. Read it and jot down things you learned from the post or further questions."
   ]
  },
  {
   "cell_type": "markdown",
   "metadata": {},
   "source": [
    "* YOUR OBSERVATION HERE\n",
    "* YOUR OBSERVATION HERE"
   ]
  },
  {
   "cell_type": "markdown",
   "metadata": {},
   "source": [
    "Now let's train our first SVC. The LinearSVC can only find a linear decision boundary (the hyperplane)."
   ]
  },
  {
   "cell_type": "code",
   "execution_count": 50,
   "metadata": {},
   "outputs": [
    {
     "name": "stdout",
     "output_type": "stream",
     "text": [
      "train acc:  0.8924571428571428\n",
      "test acc:  0.8925714285714286\n"
     ]
    }
   ],
   "source": [
    "lsvc = LinearSVC(dual=False, tol=0.01)\n",
    "lsvc.fit(X_train_pca, y_train)\n",
    "print('train acc: ', accuracy_score(lsvc.predict(X_train_pca), y_train))\n",
    "print('test acc: ', accuracy_score(lsvc.predict(X_test_pca), y_test))"
   ]
  },
  {
   "cell_type": "markdown",
   "metadata": {},
   "source": [
    "SVMs are really interesting because they have something called the *dual formulation*, in which the computation is expressed as training point inner products. This means that data can be lifted into higher dimensions easily with this \"kernel trick\". Data that is not linearly separable in a lower dimension can be linearly separable in a higher dimension - which is why we conduct the transform. Let us experiment."
   ]
  },
  {
   "cell_type": "markdown",
   "metadata": {},
   "source": [
    "A transformation that lifts the data into a higher-dimensional space is called a kernel. A polynomial kernel expands the feature space by computing all the polynomial cross terms to a specific degree."
   ]
  },
  {
   "cell_type": "code",
   "execution_count": 52,
   "metadata": {
    "scrolled": true
   },
   "outputs": [
    {
     "name": "stdout",
     "output_type": "stream",
     "text": [
      "train acc:  0.9964190476190476\n",
      "test acc:  0.9808\n"
     ]
    }
   ],
   "source": [
    "psvc = SVC(kernel='poly', degree=3, tol=0.01, cache_size=4000)\n",
    "psvc.fit(X_train_pca, y_train)\n",
    "print('train acc: ', accuracy_score(psvc.predict(X_train_pca), y_train))\n",
    "print('test acc: ', accuracy_score(psvc.predict(X_test_pca), y_test))"
   ]
  },
  {
   "cell_type": "markdown",
   "metadata": {},
   "source": [
    "Play around with the degree of the polynomial kernel to see what accuracy you can get."
   ]
  },
  {
   "cell_type": "markdown",
   "metadata": {},
   "source": [
    "The RBF kernel uses the gaussian function to create an infinite dimensional space - a gaussian peak at each datapoint. Now fiddle with the `C` and `gamma` parameters of the gaussian kernel below to see what you can get. [Here's documentation](http://scikit-learn.org/stable/modules/generated/sklearn.svm.SVC.html)"
   ]
  },
  {
   "cell_type": "code",
   "execution_count": 53,
   "metadata": {},
   "outputs": [
    {
     "name": "stdout",
     "output_type": "stream",
     "text": [
      "train acc:  0.9933333333333333\n",
      "test acc:  0.9825142857142857\n"
     ]
    }
   ],
   "source": [
    "rsvc = SVC(kernel='rbf', tol=0.01, cache_size=4000)\n",
    "rsvc.fit(X_train_pca, y_train)\n",
    "print('train acc: ', accuracy_score(rsvc.predict(X_train_pca), y_train))\n",
    "print('test acc: ', accuracy_score(rsvc.predict(X_test_pca), y_test))"
   ]
  },
  {
   "cell_type": "markdown",
   "metadata": {},
   "source": [
    "Isn't that just amazing accuracy?"
   ]
  },
  {
   "cell_type": "markdown",
   "metadata": {},
   "source": [
    "## Basic Neural Network"
   ]
  },
  {
   "cell_type": "markdown",
   "metadata": {},
   "source": [
    "You should never do neural networks in sklearn. Use Keras (which we will teach you later in this class), Tensorflow, PyTorch, etc. However, in an effort to keep this homework somewhat cohesive, let us proceed."
   ]
  },
  {
   "cell_type": "markdown",
   "metadata": {},
   "source": [
    "Basic neural networks proceed in layers. Each layer has a certain number of nodes, representing how expressive that layer can be. Below is a sample network, with an input layer, one hidden (middle) layer of 50 neurons, and finally the output layer."
   ]
  },
  {
   "cell_type": "code",
   "execution_count": 55,
   "metadata": {},
   "outputs": [
    {
     "name": "stdout",
     "output_type": "stream",
     "text": [
      "Iteration 1, loss = 2.24665882\n",
      "Iteration 2, loss = 1.94998049\n",
      "Iteration 3, loss = 1.53751596\n",
      "Iteration 4, loss = 1.21691739\n",
      "Iteration 5, loss = 1.00028671\n",
      "Iteration 6, loss = 0.85062485\n",
      "Iteration 7, loss = 0.74338582\n",
      "Iteration 8, loss = 0.66434859\n",
      "Iteration 9, loss = 0.60456521\n",
      "Iteration 10, loss = 0.55782936\n",
      "Iteration 11, loss = 0.52090405\n",
      "Iteration 12, loss = 0.49115539\n",
      "Iteration 13, loss = 0.46641939\n",
      "Iteration 14, loss = 0.44583175\n",
      "Iteration 15, loss = 0.42855860\n",
      "Iteration 16, loss = 0.41403627\n",
      "Iteration 17, loss = 0.40137741\n",
      "Iteration 18, loss = 0.39057446\n",
      "Iteration 19, loss = 0.38143008\n",
      "Iteration 20, loss = 0.37304033\n",
      "Iteration 21, loss = 0.36570118\n",
      "Iteration 22, loss = 0.35932300\n",
      "Iteration 23, loss = 0.35357084\n",
      "Iteration 24, loss = 0.34817981\n",
      "Iteration 25, loss = 0.34370622\n",
      "Iteration 26, loss = 0.33952984\n",
      "Iteration 27, loss = 0.33551155\n",
      "Iteration 28, loss = 0.33191683\n",
      "Iteration 29, loss = 0.32867333\n",
      "Iteration 30, loss = 0.32561582\n",
      "Iteration 31, loss = 0.32285728\n",
      "Iteration 32, loss = 0.32016235\n",
      "Iteration 33, loss = 0.31779584\n",
      "Iteration 34, loss = 0.31543243\n",
      "Iteration 35, loss = 0.31327458\n",
      "Iteration 36, loss = 0.31136156\n",
      "Iteration 37, loss = 0.30932732\n",
      "Iteration 38, loss = 0.30739414\n",
      "Iteration 39, loss = 0.30586995\n",
      "Iteration 40, loss = 0.30404304\n",
      "Iteration 41, loss = 0.30247631\n",
      "Iteration 42, loss = 0.30099139\n",
      "Iteration 43, loss = 0.29953503\n",
      "Iteration 44, loss = 0.29812636\n",
      "Iteration 45, loss = 0.29676530\n",
      "Iteration 46, loss = 0.29550630\n",
      "Iteration 47, loss = 0.29405200\n",
      "Iteration 48, loss = 0.29289143\n",
      "Iteration 49, loss = 0.29177823\n",
      "Iteration 50, loss = 0.29040636\n",
      "Iteration 51, loss = 0.28926486\n",
      "Iteration 52, loss = 0.28806353\n",
      "Iteration 53, loss = 0.28705121\n",
      "Iteration 54, loss = 0.28585146\n",
      "Iteration 55, loss = 0.28477558\n",
      "Iteration 56, loss = 0.28371113\n",
      "Iteration 57, loss = 0.28270902\n",
      "Iteration 58, loss = 0.28146155\n",
      "Iteration 59, loss = 0.28042627\n",
      "Iteration 60, loss = 0.27949907\n",
      "Iteration 61, loss = 0.27843427\n",
      "Iteration 62, loss = 0.27754955\n",
      "Iteration 63, loss = 0.27661910\n",
      "Iteration 64, loss = 0.27556440\n",
      "Iteration 65, loss = 0.27449511\n",
      "Iteration 66, loss = 0.27363150\n",
      "Iteration 67, loss = 0.27274755\n",
      "Iteration 68, loss = 0.27171531\n",
      "Iteration 69, loss = 0.27065391\n",
      "Iteration 70, loss = 0.26982561\n",
      "Iteration 71, loss = 0.26878944\n",
      "Iteration 72, loss = 0.26801122\n",
      "Iteration 73, loss = 0.26691148\n",
      "Iteration 74, loss = 0.26620310\n",
      "Iteration 75, loss = 0.26511920\n",
      "Iteration 76, loss = 0.26417838\n",
      "Iteration 77, loss = 0.26326985\n",
      "Iteration 78, loss = 0.26234813\n",
      "Iteration 79, loss = 0.26148691\n",
      "Iteration 80, loss = 0.26049417\n",
      "Iteration 81, loss = 0.25974982\n",
      "Iteration 82, loss = 0.25878583\n",
      "Iteration 83, loss = 0.25784134\n",
      "Iteration 84, loss = 0.25696944\n",
      "Iteration 85, loss = 0.25599364\n",
      "Iteration 86, loss = 0.25516184\n",
      "Iteration 87, loss = 0.25449712\n",
      "Iteration 88, loss = 0.25338954\n",
      "Iteration 89, loss = 0.25276308\n",
      "Iteration 90, loss = 0.25178023\n",
      "Iteration 91, loss = 0.25080454\n",
      "Iteration 92, loss = 0.25002610\n",
      "Iteration 93, loss = 0.24906121\n",
      "Iteration 94, loss = 0.24813718\n",
      "Iteration 95, loss = 0.24735231\n",
      "Iteration 96, loss = 0.24661811\n",
      "Iteration 97, loss = 0.24580104\n",
      "Iteration 98, loss = 0.24488581\n",
      "Iteration 99, loss = 0.24393287\n",
      "Iteration 100, loss = 0.24321866\n",
      "Iteration 101, loss = 0.24239750\n",
      "Iteration 102, loss = 0.24160499\n",
      "Iteration 103, loss = 0.24069606\n",
      "Iteration 104, loss = 0.23998639\n",
      "Iteration 105, loss = 0.23921537\n",
      "Iteration 106, loss = 0.23845157\n",
      "Iteration 107, loss = 0.23769469\n",
      "Iteration 108, loss = 0.23698958\n",
      "Iteration 109, loss = 0.23600779\n",
      "Iteration 110, loss = 0.23543544\n",
      "Iteration 111, loss = 0.23461810\n",
      "Iteration 112, loss = 0.23402486\n",
      "Iteration 113, loss = 0.23315602\n",
      "Iteration 114, loss = 0.23253123\n",
      "Iteration 115, loss = 0.23183044\n",
      "Iteration 116, loss = 0.23111716\n",
      "Iteration 117, loss = 0.23037904\n",
      "Iteration 118, loss = 0.22947215\n",
      "Iteration 119, loss = 0.22904109\n",
      "Iteration 120, loss = 0.22838021\n",
      "Iteration 121, loss = 0.22758219\n",
      "Iteration 122, loss = 0.22702391\n",
      "Iteration 123, loss = 0.22626602\n",
      "Iteration 124, loss = 0.22569827\n",
      "Iteration 125, loss = 0.22487564\n",
      "Iteration 126, loss = 0.22440877\n",
      "Iteration 127, loss = 0.22359900\n",
      "Iteration 128, loss = 0.22299708\n",
      "Iteration 129, loss = 0.22248760\n",
      "Iteration 130, loss = 0.22169151\n",
      "Iteration 131, loss = 0.22109953\n",
      "Iteration 132, loss = 0.22044639\n",
      "Iteration 133, loss = 0.21978818\n",
      "Iteration 134, loss = 0.21928884\n",
      "Iteration 135, loss = 0.21839704\n",
      "Iteration 136, loss = 0.21791607\n",
      "Iteration 137, loss = 0.21733239\n",
      "Iteration 138, loss = 0.21660458\n",
      "Iteration 139, loss = 0.21601460\n",
      "Iteration 140, loss = 0.21548101\n",
      "Iteration 141, loss = 0.21488356\n",
      "Iteration 142, loss = 0.21433584\n",
      "Iteration 143, loss = 0.21377760\n",
      "Iteration 144, loss = 0.21332372\n",
      "Iteration 145, loss = 0.21259964\n",
      "Iteration 146, loss = 0.21192714\n",
      "Iteration 147, loss = 0.21134772\n",
      "Iteration 148, loss = 0.21088181\n",
      "Iteration 149, loss = 0.21030665\n",
      "Iteration 150, loss = 0.20981887\n",
      "Iteration 151, loss = 0.20915196\n",
      "Iteration 152, loss = 0.20864159\n",
      "Iteration 153, loss = 0.20811082\n",
      "Iteration 154, loss = 0.20761458\n",
      "Iteration 155, loss = 0.20703006\n",
      "Iteration 156, loss = 0.20650379\n",
      "Iteration 157, loss = 0.20599242\n",
      "Iteration 158, loss = 0.20545975\n",
      "Iteration 159, loss = 0.20474695\n",
      "Iteration 160, loss = 0.20431804\n",
      "Iteration 161, loss = 0.20390054\n",
      "Iteration 162, loss = 0.20333287\n",
      "Iteration 163, loss = 0.20290367\n",
      "Iteration 164, loss = 0.20236544\n",
      "Iteration 165, loss = 0.20175614\n",
      "Iteration 166, loss = 0.20141513\n",
      "Iteration 167, loss = 0.20100252\n",
      "Iteration 168, loss = 0.20043859\n",
      "Iteration 169, loss = 0.19998638\n",
      "Iteration 170, loss = 0.19939139\n",
      "Iteration 171, loss = 0.19888205\n",
      "Iteration 172, loss = 0.19848580\n",
      "Iteration 173, loss = 0.19792212\n",
      "Iteration 174, loss = 0.19760496\n",
      "Iteration 175, loss = 0.19717080\n",
      "Iteration 176, loss = 0.19661374\n",
      "Iteration 177, loss = 0.19621177\n",
      "Iteration 178, loss = 0.19573767\n",
      "Iteration 179, loss = 0.19516930\n",
      "Iteration 180, loss = 0.19487692\n",
      "Iteration 181, loss = 0.19429820\n",
      "Iteration 182, loss = 0.19392045\n",
      "Iteration 183, loss = 0.19343715\n",
      "Iteration 184, loss = 0.19308804\n",
      "Iteration 185, loss = 0.19250552\n",
      "Iteration 186, loss = 0.19215813\n",
      "Iteration 187, loss = 0.19171092\n",
      "Iteration 188, loss = 0.19138872\n",
      "Iteration 189, loss = 0.19083637\n",
      "Iteration 190, loss = 0.19057840\n",
      "Iteration 191, loss = 0.19006621\n",
      "Iteration 192, loss = 0.18954171\n",
      "Iteration 193, loss = 0.18914098\n",
      "Iteration 194, loss = 0.18880589\n",
      "Iteration 195, loss = 0.18847831\n",
      "Iteration 196, loss = 0.18790300\n",
      "Iteration 197, loss = 0.18748752\n",
      "Iteration 198, loss = 0.18708294\n",
      "Iteration 199, loss = 0.18670776\n",
      "Iteration 200, loss = 0.18642596\n"
     ]
    },
    {
     "name": "stderr",
     "output_type": "stream",
     "text": [
      "/Library/Frameworks/Python.framework/Versions/3.6/lib/python3.6/site-packages/sklearn/neural_network/multilayer_perceptron.py:562: ConvergenceWarning: Stochastic Optimizer: Maximum iterations (200) reached and the optimization hasn't converged yet.\n",
      "  % self.max_iter, ConvergenceWarning)\n"
     ]
    },
    {
     "name": "stdout",
     "output_type": "stream",
     "text": [
      "train acc:  0.9531809523809524\n",
      "test acc:  0.9465142857142858\n"
     ]
    }
   ],
   "source": [
    "nn = MLPClassifier(hidden_layer_sizes=(50,), solver='adam', verbose=1)\n",
    "nn.fit(X_train, y_train)\n",
    "print('train acc: ', accuracy_score(nn.predict(X_train), y_train))\n",
    "print('test acc: ', accuracy_score(nn.predict(X_test), y_test))"
   ]
  },
  {
   "cell_type": "markdown",
   "metadata": {},
   "source": [
    "Fiddle around with the hiddle layers. Change the number of neurons, add more layers, experiment. You should be able to hit 98% accuracy."
   ]
  },
  {
   "cell_type": "markdown",
   "metadata": {},
   "source": [
    "Neural networks are optimized with a technique called gradient descent (a neural net is just one big function - so we can take the gradient with respect to all its parameters, then just go opposite the gradient to try and find the minimum). This is why it requires many iterations to converge."
   ]
  },
  {
   "cell_type": "markdown",
   "metadata": {},
   "source": [
    "## Turning In"
   ]
  },
  {
   "cell_type": "markdown",
   "metadata": {},
   "source": [
    "Convert this notebook to a PDF (file -> download as -> pdf via latex) and submit to Gradescope."
   ]
  },
  {
   "cell_type": "code",
   "execution_count": null,
   "metadata": {},
   "outputs": [],
   "source": []
  }
 ],
 "metadata": {
  "kernelspec": {
   "display_name": "Python 3",
   "language": "python",
   "name": "python3"
  },
  "language_info": {
   "codemirror_mode": {
    "name": "ipython",
    "version": 3
   },
   "file_extension": ".py",
   "mimetype": "text/x-python",
   "name": "python",
   "nbconvert_exporter": "python",
   "pygments_lexer": "ipython3",
   "version": "3.6.2"
  },
  "toc": {
   "base_numbering": 1,
   "nav_menu": {},
   "number_sections": false,
   "sideBar": false,
   "skip_h1_title": false,
   "title_cell": "Table of Contents",
   "title_sidebar": "Contents",
   "toc_cell": false,
   "toc_position": {},
   "toc_section_display": false,
   "toc_window_display": false
  }
 },
 "nbformat": 4,
 "nbformat_minor": 2
}
